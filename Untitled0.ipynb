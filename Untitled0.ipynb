{
  "nbformat": 4,
  "nbformat_minor": 0,
  "metadata": {
    "colab": {
      "name": "Untitled0.ipynb",
      "provenance": [],
      "collapsed_sections": [],
      "authorship_tag": "ABX9TyM/GRcGLCE0Dwxgfa6FqX3t",
      "include_colab_link": true
    },
    "kernelspec": {
      "name": "python3",
      "display_name": "Python 3"
    },
    "language_info": {
      "name": "python"
    }
  },
  "cells": [
    {
      "cell_type": "markdown",
      "metadata": {
        "id": "view-in-github",
        "colab_type": "text"
      },
      "source": [
        "<a href=\"https://colab.research.google.com/github/Coldang/pythonMoocCompanion/blob/master/Untitled0.ipynb\" target=\"_parent\"><img src=\"https://colab.research.google.com/assets/colab-badge.svg\" alt=\"Open In Colab\"/></a>"
      ]
    },
    {
      "cell_type": "code",
      "metadata": {
        "colab": {
          "base_uri": "https://localhost:8080/"
        },
        "id": "JNDFVNrq1ne4",
        "outputId": "7ad6399b-cf71-416e-f9bd-2d6181bcb41b"
      },
      "source": [
        "print(\"hola\")"
      ],
      "execution_count": null,
      "outputs": [
        {
          "output_type": "stream",
          "text": [
            "hola\n"
          ],
          "name": "stdout"
        }
      ]
    },
    {
      "cell_type": "code",
      "metadata": {
        "id": "CXt-j40kRBOo"
      },
      "source": [
        "ingreso=float(input(\"Ingrese el ingreso anual:\"))\n",
        "if ingreso <= 85528 :\n",
        "    impuesto = ingreso * 0.18 - 556.02\n",
        "    impuesto = impuesto - 556.02\n",
        "else :\n",
        "    impuesto = 14839.02\n",
        "    surplus = ingreso - 85528\n",
        "    surplusTax = surplus * .32\n",
        "    impuesto = impuesto + surplusTax\n",
        "\n",
        "if impuesto < 0:\n",
        "    impuesto = 0\n",
        "\n",
        "#\n",
        "# Coloca tu código aquí.\n",
        "#not\n",
        "\n",
        "impuesto=round(impuesto, 0)\n",
        "print(\"El impuesto es: \", impuesto, \"pesos\")"
      ],
      "execution_count": null,
      "outputs": []
    },
    {
      "cell_type": "code",
      "metadata": {
        "colab": {
          "base_uri": "https://localhost:8080/"
        },
        "id": "icQugAPr1zCA",
        "outputId": "7f27346f-c445-47b0-e9ae-4ccd635a94e2"
      },
      "source": [
        "print(\"hola mundo\")\n"
      ],
      "execution_count": null,
      "outputs": [
        {
          "output_type": "stream",
          "text": [
            "hola mundo\n"
          ],
          "name": "stdout"
        }
      ]
    },
    {
      "cell_type": "markdown",
      "metadata": {
        "id": "RB38FycZ7o99"
      },
      "source": [
        ""
      ]
    },
    {
      "cell_type": "code",
      "metadata": {
        "id": "KqBG98go-WYb"
      },
      "source": [
        "print(\"khe verga\")"
      ],
      "execution_count": null,
      "outputs": []
    },
    {
      "cell_type": "code",
      "metadata": {
        "colab": {
          "base_uri": "https://localhost:8080/"
        },
        "id": "e7O3gOYi-YgO",
        "outputId": "ed15ab12-63c2-4053-ee48-00cc51b48edc"
      },
      "source": [
        "print(\"hola profe\")"
      ],
      "execution_count": null,
      "outputs": [
        {
          "output_type": "stream",
          "text": [
            "hola profe\n"
          ],
          "name": "stdout"
        }
      ]
    },
    {
      "cell_type": "markdown",
      "metadata": {
        "id": "BG90MyxdAL1z"
      },
      "source": [
        ""
      ]
    },
    {
      "cell_type": "code",
      "metadata": {
        "colab": {
          "base_uri": "https://localhost:8080/"
        },
        "id": "5NObgzHdAMDf",
        "outputId": "feeee80c-5cc8-44a2-d384-d5d5d540d23c"
      },
      "source": [
        "print(\" weno mano\")"
      ],
      "execution_count": null,
      "outputs": [
        {
          "output_type": "stream",
          "text": [
            " weno mano\n"
          ],
          "name": "stdout"
        }
      ]
    }
  ]
}